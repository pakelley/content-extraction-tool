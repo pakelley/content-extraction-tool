{
 "cells": [
  {
   "cell_type": "code",
   "execution_count": 1,
   "metadata": {},
   "outputs": [],
   "source": [
    "import os\n",
    "import pandas as pd"
   ]
  },
  {
   "cell_type": "markdown",
   "metadata": {},
   "source": [
    "## How to use this notebook:\n",
    "Since this binder has to be hosted publicly for now, you'll need to copy the data to this notebook. You can do that like this:\n",
    "\n",
    "  1. Clone the [data repo](https://bitbucket.org/bombora-datascience/dragnet-labeled-data)(if you haven't already)\n",
    "  2. Zip the data repo\n",
    "  3. Click the Jupyter logo at the top of this notebook to view this directory\n",
    "  4. Using the \"Upload\" button at the top right, upload the zipped data repo\n",
    "\n",
    "Then you can follow the steps in the notebook and label some content :)\n",
    "\n",
    "The only other notable things you should have to change are the assignment of `my_df` to the `DataFrame` with your name on it, and (if you change any of the labeled data) save your new labeled data(using the very last cell) and download those files."
   ]
  },
  {
   "cell_type": "markdown",
   "metadata": {},
   "source": [
    "## Read in Data"
   ]
  },
  {
   "cell_type": "code",
   "execution_count": 2,
   "metadata": {},
   "outputs": [],
   "source": [
    "# if needed, unzip data\n",
    "import zipfile as zf\n",
    "files = zf.ZipFile(\"dragnet-labeled-data.zip\", 'r')\n",
    "files.extractall('.')\n",
    "files.close()"
   ]
  },
  {
   "cell_type": "code",
   "execution_count": 3,
   "metadata": {},
   "outputs": [
    {
     "name": "stderr",
     "output_type": "stream",
     "text": [
      "Reading in Data: 100%|██████████| 476/476 [00:57<00:00,  8.31it/s]\n"
     ]
    }
   ],
   "source": [
    "from imp import reload\n",
    "import utils\n",
    "reload(utils)\n",
    "from dragnet import Extractor\n",
    "from utils import read_dragnet_data\n",
    "\n",
    "# this will probably take a couple of minutes, especially the first time(when it has to extract the data)\n",
    "data_dir = 'dragnet-labeled-data'\n",
    "dragnet_extractor = Extractor(to_extract='content')\n",
    "df = read_dragnet_data(data_dir, to_extract=dragnet_extractor.to_extract)"
   ]
  },
  {
   "cell_type": "markdown",
   "metadata": {},
   "source": [
    "## Initialize Extractors/Results"
   ]
  },
  {
   "cell_type": "code",
   "execution_count": 4,
   "metadata": {},
   "outputs": [
    {
     "name": "stderr",
     "output_type": "stream",
     "text": [
      "WARNING:root:extraction failed: too few blocks (1)\n",
      "Extracting Dragnet Content: 100%|██████████| 380/380 [00:11<00:00, 33.69it/s]\n",
      "Extracting Justext Content: 100%|██████████| 380/380 [00:21<00:00, 17.35it/s]\n",
      "Parsing Expected Content: 100%|██████████| 380/380 [00:08<00:00, 42.79it/s]\n",
      "Extracting Dragnet Content: 100%|██████████| 381/381 [00:10<00:00, 34.80it/s]\n",
      "Extracting Justext Content: 100%|██████████| 381/381 [00:20<00:00, 18.56it/s]\n",
      "Parsing Expected Content: 100%|██████████| 381/381 [00:08<00:00, 43.85it/s]\n",
      "Extracting Dragnet Content: 100%|██████████| 381/381 [00:10<00:00, 37.02it/s]\n",
      "Extracting Justext Content: 100%|██████████| 381/381 [00:19<00:00, 19.79it/s]\n",
      "Parsing Expected Content: 100%|██████████| 381/381 [00:08<00:00, 46.70it/s]\n",
      "Extracting Dragnet Content: 100%|██████████| 381/381 [00:10<00:00, 37.51it/s]\n",
      "Extracting Justext Content: 100%|██████████| 381/381 [00:17<00:00, 22.25it/s]\n",
      "Parsing Expected Content: 100%|██████████| 381/381 [00:06<00:00, 54.71it/s]\n",
      "WARNING:root:extraction failed: too few blocks (1)\n",
      "WARNING:root:extraction failed: too few blocks (1)\n",
      "WARNING:root:extraction failed: too few blocks (1)\n",
      "WARNING:root:extraction failed: too few blocks (1)\n",
      "WARNING:root:extraction failed: too few blocks (1)\n",
      "WARNING:root:extraction failed: too few blocks (1)\n",
      "WARNING:root:extraction failed: too few blocks (1)\n",
      "WARNING:root:extraction failed: too few blocks (1)\n",
      "WARNING:root:extraction failed: too few blocks (1)\n",
      "WARNING:root:extraction failed: too few blocks (1)\n",
      "Extracting Dragnet Content: 100%|██████████| 381/381 [00:08<00:00, 43.81it/s]\n",
      "Extracting Justext Content: 100%|██████████| 381/381 [00:16<00:00, 22.47it/s]\n",
      "Parsing Expected Content: 100%|██████████| 381/381 [00:06<00:00, 55.73it/s]\n"
     ]
    }
   ],
   "source": [
    "from sklearn.model_selection import KFold\n",
    "from utils import extraction_comparison, JustextWrapper\n",
    "justext_extractor = JustextWrapper()\n",
    "\n",
    "dfs = []\n",
    "for train_index, test_index in KFold(n_splits=5, random_state=42).split(df):\n",
    "    train_df = df.iloc[test_index]\n",
    "    test_df = df.iloc[train_index]\n",
    "    dragnet_extractor.fit(train_df['doc'], train_df['labels'], train_df['weights'])\n",
    "    scores_df = extraction_comparison(dragnet_extractor, justext_extractor, test_df)\n",
    "    sorted_df = scores_df.sort_values(by=['base_f1', 'comp_f1'], ascending=[True, False])\n",
    "    dfs.append(sorted_df)"
   ]
  },
  {
   "cell_type": "code",
   "execution_count": 6,
   "metadata": {},
   "outputs": [],
   "source": [
    "patricks_df, lindsays_df, nicos_df, melanies_df, jeffs_df = dfs\n",
    "my_df = patricks_df"
   ]
  },
  {
   "cell_type": "markdown",
   "metadata": {},
   "source": [
    "## Compare Results"
   ]
  },
  {
   "cell_type": "code",
   "execution_count": 7,
   "metadata": {},
   "outputs": [
    {
     "data": {
      "application/vnd.jupyter.widget-view+json": {
       "model_id": "236a4181c6fc4d29bde3430f32aeacfb",
       "version_major": 2,
       "version_minor": 0
      },
      "text/html": [
       "<p>Failed to display Jupyter Widget of type <code>VBox</code>.</p>\n",
       "<p>\n",
       "  If you're reading this message in the Jupyter Notebook or JupyterLab Notebook, it may mean\n",
       "  that the widgets JavaScript is still loading. If this message persists, it\n",
       "  likely means that the widgets JavaScript library is either not installed or\n",
       "  not enabled. See the <a href=\"https://ipywidgets.readthedocs.io/en/stable/user_install.html\">Jupyter\n",
       "  Widgets Documentation</a> for setup instructions.\n",
       "</p>\n",
       "<p>\n",
       "  If you're reading this message in another frontend (for example, a static\n",
       "  rendering on GitHub or <a href=\"https://nbviewer.jupyter.org/\">NBViewer</a>),\n",
       "  it may mean that your frontend doesn't currently support widgets.\n",
       "</p>\n"
      ],
      "text/plain": [
       "VBox(children=(HBox(children=(Label(value='50131_45'), IntSlider(value=0, continuous_update=False, max=379), Label(value='Error Mode:'), Text(value=''))), Tab(children=(Accordion(children=(Output(), Output(), Output()), _titles={'0': 'Expected', '1': 'Dragnet', '2': 'Justext'}), Output(), Textarea(value='', layout=Layout(width='auto'))), _titles={'0': 'Extracted Content', '1': 'HTML', '2': 'Label Content'})))"
      ]
     },
     "metadata": {},
     "output_type": "display_data"
    }
   ],
   "source": [
    "from utils import content_extract_comparison_widget\n",
    "\n",
    "content_extract_comparison_widget(my_df)"
   ]
  },
  {
   "cell_type": "code",
   "execution_count": 8,
   "metadata": {},
   "outputs": [],
   "source": [
    "# save your content to a new 'Corrected' file\n",
    "new_labels_dir = os.path.join(data_dir, 'new_Corrected')\n",
    "\n",
    "for row in my_df.itertuples():\n",
    "    filename = \"{}.html.corrected.txt\".format(row.fileroot)\n",
    "    with open(os.path.join(new_labels_dir, filename), 'w') as f:\n",
    "        print(row.labeled_content, file=f)"
   ]
  },
  {
   "cell_type": "code",
   "execution_count": null,
   "metadata": {},
   "outputs": [],
   "source": []
  }
 ],
 "metadata": {
  "kernelspec": {
   "display_name": "Python 3",
   "language": "python",
   "name": "python3"
  },
  "language_info": {
   "codemirror_mode": {
    "name": "ipython",
    "version": 3
   },
   "file_extension": ".py",
   "mimetype": "text/x-python",
   "name": "python",
   "nbconvert_exporter": "python",
   "pygments_lexer": "ipython3",
   "version": "3.6.4"
  }
 },
 "nbformat": 4,
 "nbformat_minor": 2
}
