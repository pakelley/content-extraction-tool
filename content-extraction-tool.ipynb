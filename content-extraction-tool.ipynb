{
 "cells": [
  {
   "cell_type": "code",
   "execution_count": 1,
   "metadata": {},
   "outputs": [],
   "source": [
    "import os\n",
    "import pandas as pd"
   ]
  },
  {
   "cell_type": "markdown",
   "metadata": {},
   "source": [
    "## How to use this notebook:\n",
    "Since this binder has to be hosted publicly for now, you'll need to copy the data to this notebook. You can do that like this:\n",
    "\n",
    "  1. Clone the [data repo](https://bitbucket.org/bombora-datascience/dragnet-labeled-data)(if you haven't already)\n",
    "  2. Zip the data repo\n",
    "  3. Click the Jupyter logo at the top of this notebook to view this directory\n",
    "  4. Using the \"Upload\" button at the top right, upload the zipped data repo\n",
    "\n",
    "Then you can follow the steps in the notebook and label some content :)\n",
    "\n",
    "The only other notable things you should have to change are the assignment of `my_df` to the `DataFrame` with your name on it, and (if you change any of the labeled data) save your new labeled data(using the very last cell) and download those files."
   ]
  },
  {
   "cell_type": "markdown",
   "metadata": {},
   "source": [
    "## Read in Data"
   ]
  },
  {
   "cell_type": "code",
   "execution_count": null,
   "metadata": {},
   "outputs": [],
   "source": [
    "# if needed, unzip data\n",
    "import zipfile as zf\n",
    "files = zf.ZipFile(\"dragnet-labeled-data.zip\", 'r')\n",
    "files.extractall('.')\n",
    "files.close()"
   ]
  },
  {
   "cell_type": "code",
   "execution_count": 2,
   "metadata": {},
   "outputs": [
    {
     "name": "stderr",
     "output_type": "stream",
     "text": [
      "Reading in Data: 100%|██████████| 476/476 [00:54<00:00,  8.74it/s]\n"
     ]
    }
   ],
   "source": [
    "from dragnet import Extractor\n",
    "from utils import read_dragnet_data\n",
    "\n",
    "# this will probably take a couple of minutes, especially the first time(when it has to extract the data)\n",
    "data_dir = 'dragnet-labeled-data'\n",
    "dragnet_extractor = Extractor(to_extract='content')\n",
    "train_df, test_df = read_dragnet_data(data_dir, to_extract=dragnet_extractor.to_extract)"
   ]
  },
  {
   "cell_type": "markdown",
   "metadata": {},
   "source": [
    "## Initialize Extractors"
   ]
  },
  {
   "cell_type": "code",
   "execution_count": 3,
   "metadata": {},
   "outputs": [
    {
     "name": "stderr",
     "output_type": "stream",
     "text": [
      "WARNING:root:extraction failed: too few blocks (1)\n",
      "WARNING:root:extraction failed: too few blocks (1)\n",
      "WARNING:root:extraction failed: too few blocks (1)\n",
      "WARNING:root:extraction failed: too few blocks (1)\n",
      "WARNING:root:extraction failed: too few blocks (1)\n",
      "WARNING:root:extraction failed: too few blocks (1)\n"
     ]
    },
    {
     "data": {
      "text/plain": [
       "Extractor(blockifier=<class 'dragnet.blocks.TagCountNoCSSReadabilityBlockifier'>,\n",
       "     features=FeatureUnion(n_jobs=1,\n",
       "       transformer_list=[('kohlschuetter', KohlschuetterFeatures()), ('weninger', WeningerFeatures(sigma=1.0)), ('readability', ReadabilityFeatures())],\n",
       "       transformer_weights=None),\n",
       "     max_block_weight=200,\n",
       "     model=ExtraTreesClassifier(bootstrap=False, class_weight=None, criterion='gini',\n",
       "           max_depth=None, max_features='auto', max_leaf_nodes=None,\n",
       "           min_impurity_decrease=0.0, min_impurity_split=None,\n",
       "           min_samples_leaf=1, min_samples_split=2,\n",
       "           min_weight_fraction_leaf=0.0, n_estimators=10, n_jobs=1,\n",
       "           oob_score=False, random_state=None, verbose=0, warm_start=False),\n",
       "     prob_threshold=0.5, to_extract=('content',))"
      ]
     },
     "execution_count": 3,
     "metadata": {},
     "output_type": "execute_result"
    }
   ],
   "source": [
    "from utils import JustextWrapper\n",
    "\n",
    "# You can safely ignore the \"WARNING:root:extraction failed: too few blocks (1)\" warnings here\n",
    "justext_extractor = JustextWrapper()\n",
    "dragnet_extractor.fit(train_df['doc'], train_df['labels'], train_df['weights'])"
   ]
  },
  {
   "cell_type": "markdown",
   "metadata": {},
   "source": [
    "## Compare Results"
   ]
  },
  {
   "cell_type": "code",
   "execution_count": 4,
   "metadata": {},
   "outputs": [
    {
     "name": "stderr",
     "output_type": "stream",
     "text": [
      "Extracting Dragnet Content: 100%|██████████| 119/119 [00:02<00:00, 42.57it/s]\n",
      "Extracting Justext Content: 100%|██████████| 119/119 [00:05<00:00, 22.66it/s]\n",
      "Parsing Expected Content: 100%|██████████| 119/119 [00:02<00:00, 54.81it/s]\n"
     ]
    }
   ],
   "source": [
    "from utils import extraction_comparison\n",
    "\n",
    "scores_df = extraction_comparison(dragnet_extractor, justext_extractor, test_df)\n",
    "sorted_df = scores_df.sort_values(by=['base_f1', 'comp_f1'], ascending=[True, False])\n",
    "\n",
    "patricks_df = sorted_df[0:25].copy()\n",
    "lindsays_df = sorted_df[25:50].copy()\n",
    "nicos_df = sorted_df[50:75].copy()\n",
    "melanies_df = sorted_df[75:100].copy()\n",
    "# go ahead and set `my_df` based on your name here :)\n",
    "my_df = patricks_df"
   ]
  },
  {
   "cell_type": "code",
   "execution_count": 5,
   "metadata": {},
   "outputs": [
    {
     "data": {
      "application/vnd.jupyter.widget-view+json": {
       "model_id": "1acecb4033a24e248c6a103d5d909717",
       "version_major": 2,
       "version_minor": 0
      },
      "text/html": [
       "<p>Failed to display Jupyter Widget of type <code>VBox</code>.</p>\n",
       "<p>\n",
       "  If you're reading this message in the Jupyter Notebook or JupyterLab Notebook, it may mean\n",
       "  that the widgets JavaScript is still loading. If this message persists, it\n",
       "  likely means that the widgets JavaScript library is either not installed or\n",
       "  not enabled. See the <a href=\"https://ipywidgets.readthedocs.io/en/stable/user_install.html\">Jupyter\n",
       "  Widgets Documentation</a> for setup instructions.\n",
       "</p>\n",
       "<p>\n",
       "  If you're reading this message in another frontend (for example, a static\n",
       "  rendering on GitHub or <a href=\"https://nbviewer.jupyter.org/\">NBViewer</a>),\n",
       "  it may mean that your frontend doesn't currently support widgets.\n",
       "</p>\n"
      ],
      "text/plain": [
       "VBox(children=(HBox(children=(IntSlider(value=0, continuous_update=False, max=24), Label(value='Error Mode:'), Text(value=''))), Tab(children=(Accordion(children=(Output(), Output(), Output()), _titles={'0': 'Expected', '1': 'Dragnet', '2': 'Justext'}), Output(), Textarea(value=\"Real, natural, beautiful. That's how we see the world. We search the globe for the finest natural ingredients, hand-picking the cream of the crop to create precious botanical oils and extracts that enrich our formula and deliver that feel good skin factor. We've always believed in something revolutionary, that our business can be a force for good. We play fair, help our communities to thrive, enriching people and the planet. Our formula are skin-loving, 100% vegetarian and never tested on animals. You'll feel so good, inside and out.\")), _titles={'0': 'Extracted Content', '1': 'HTML', '2': 'Label Content'})))"
      ]
     },
     "metadata": {},
     "output_type": "display_data"
    }
   ],
   "source": [
    "from utils import content_extract_comparison_widget\n",
    "\n",
    "content_extract_comparison_widget(my_df)"
   ]
  },
  {
   "cell_type": "code",
   "execution_count": 83,
   "metadata": {},
   "outputs": [],
   "source": [
    "# save your content to a new 'Corrected' file\n",
    "new_labels_dir = os.path.join(data_dir, 'new_Corrected')\n",
    "\n",
    "for row in my_df.itertuples():\n",
    "    filename = \"{}.html.corrected.txt\".format(row.fileroot)\n",
    "    with open(os.path.join(new_labels_dir, filename), 'w') as f:\n",
    "        print(row.labeled_content, file=f)"
   ]
  },
  {
   "cell_type": "code",
   "execution_count": null,
   "metadata": {},
   "outputs": [],
   "source": []
  }
 ],
 "metadata": {
  "kernelspec": {
   "display_name": "Python 3",
   "language": "python",
   "name": "python3"
  },
  "language_info": {
   "codemirror_mode": {
    "name": "ipython",
    "version": 3
   },
   "file_extension": ".py",
   "mimetype": "text/x-python",
   "name": "python",
   "nbconvert_exporter": "python",
   "pygments_lexer": "ipython3",
   "version": "3.6.4"
  }
 },
 "nbformat": 4,
 "nbformat_minor": 2
}
